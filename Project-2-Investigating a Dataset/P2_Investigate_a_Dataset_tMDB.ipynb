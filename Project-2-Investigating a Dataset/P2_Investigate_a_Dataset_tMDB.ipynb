{
  "nbformat": 4,
  "nbformat_minor": 0,
  "metadata": {
    "kernelspec": {
      "display_name": "Python 3",
      "language": "python",
      "name": "python3"
    },
    "language_info": {
      "codemirror_mode": {
        "name": "ipython",
        "version": 3
      },
      "file_extension": ".py",
      "mimetype": "text/x-python",
      "name": "python",
      "nbconvert_exporter": "python",
      "pygments_lexer": "ipython3",
      "version": "3.6.1"
    },
    "colab": {
      "name": "P2_Investigate_a_Dataset_tMDB.ipynb",
      "provenance": [],
      "toc_visible": true
    }
  },
  "cells": [
    {
      "cell_type": "markdown",
      "metadata": {
        "id": "Y2Zaf7f4EPr-",
        "colab_type": "text"
      },
      "source": [
        "# Project: Investigate a Dataset - Analyze TMDb Movie Data\n",
        "\n",
        "## Table of Contents\n",
        "<ul>\n",
        "<li><a href=\"#intro\">Introduction</a></li>\n",
        "<li><a href=\"#wrangling\">Data Wrangling</a></li>\n",
        "<li><a href=\"#eda\">Exploratory Data Analysis</a></li>\n",
        "<li><a href=\"#conclusions\">Conclusions</a></li>\n",
        "</ul>"
      ]
    },
    {
      "cell_type": "markdown",
      "metadata": {
        "id": "FDJi6X7vEPsA",
        "colab_type": "text"
      },
      "source": [
        "<a id='intro'></a>\n",
        "## Introduction"
      ]
    },
    {
      "cell_type": "code",
      "metadata": {
        "id": "lg4slXWYEZSK",
        "colab_type": "code",
        "colab": {
          "base_uri": "https://localhost:8080/",
          "height": 34
        },
        "outputId": "137da911-d7ad-4f9e-ed06-0684fd1cba17"
      },
      "source": [
        "from google.colab import drive\n",
        "drive.mount('/content/drive')"
      ],
      "execution_count": 2,
      "outputs": [
        {
          "output_type": "stream",
          "text": [
            "Drive already mounted at /content/drive; to attempt to forcibly remount, call drive.mount(\"/content/drive\", force_remount=True).\n"
          ],
          "name": "stdout"
        }
      ]
    },
    {
      "cell_type": "code",
      "metadata": {
        "id": "JWityaHHEPsC",
        "colab_type": "code",
        "colab": {}
      },
      "source": [
        "# Import the neccessary packages\n",
        "import pandas as pd\n",
        "import matplotlib as plt\n",
        "% matplotlib inline\n",
        "import numpy as np\n",
        "import matplotlib.pyplot as plt"
      ],
      "execution_count": 0,
      "outputs": []
    },
    {
      "cell_type": "markdown",
      "metadata": {
        "id": "co5-YiGgEPsM",
        "colab_type": "text"
      },
      "source": [
        "<a id='wrangling'></a>\n",
        "## Data Wrangling\n",
        "\n",
        "\n",
        "### General Properties\n",
        "\n",
        "#### DataSet chosen for analysis: TMDb Movie Data\n",
        "\n",
        "The database contains information about movies collected from The Movies Database, including revenue, budget, ratings, and homepage. I displayed 10 rows to get a little more detailed result about the columns, values and structure. I decided to ask questions related financials, popularity and genres.\n",
        "\n",
        "#### Questions posed:\n",
        "\n",
        "1. How has the popularity of Western movies changed over the years?\n",
        "2. Does budget correlate with popularity? What about the movies with the biggest budget?\n",
        "3. Which 10 production company profited the most over the years?"
      ]
    },
    {
      "cell_type": "code",
      "metadata": {
        "id": "mkvKD8GSEPsO",
        "colab_type": "code",
        "colab": {
          "base_uri": "https://localhost:8080/",
          "height": 602
        },
        "outputId": "ec27047b-04f7-4490-e00b-daddd3d0fd42"
      },
      "source": [
        "# Load the data to check the structure and columns\n",
        "df = pd.read_csv('/content/drive/My Drive/Udacity/Data Analyst/Project-1-Investigate-a-Dataset/tmdb-movies.csv')\n",
        "df.head(5)"
      ],
      "execution_count": 4,
      "outputs": [
        {
          "output_type": "execute_result",
          "data": {
            "text/html": [
              "<div>\n",
              "<style scoped>\n",
              "    .dataframe tbody tr th:only-of-type {\n",
              "        vertical-align: middle;\n",
              "    }\n",
              "\n",
              "    .dataframe tbody tr th {\n",
              "        vertical-align: top;\n",
              "    }\n",
              "\n",
              "    .dataframe thead th {\n",
              "        text-align: right;\n",
              "    }\n",
              "</style>\n",
              "<table border=\"1\" class=\"dataframe\">\n",
              "  <thead>\n",
              "    <tr style=\"text-align: right;\">\n",
              "      <th></th>\n",
              "      <th>id</th>\n",
              "      <th>imdb_id</th>\n",
              "      <th>popularity</th>\n",
              "      <th>budget</th>\n",
              "      <th>revenue</th>\n",
              "      <th>original_title</th>\n",
              "      <th>cast</th>\n",
              "      <th>homepage</th>\n",
              "      <th>director</th>\n",
              "      <th>tagline</th>\n",
              "      <th>keywords</th>\n",
              "      <th>overview</th>\n",
              "      <th>runtime</th>\n",
              "      <th>genres</th>\n",
              "      <th>production_companies</th>\n",
              "      <th>release_date</th>\n",
              "      <th>vote_count</th>\n",
              "      <th>vote_average</th>\n",
              "      <th>release_year</th>\n",
              "      <th>budget_adj</th>\n",
              "      <th>revenue_adj</th>\n",
              "    </tr>\n",
              "  </thead>\n",
              "  <tbody>\n",
              "    <tr>\n",
              "      <th>0</th>\n",
              "      <td>135397</td>\n",
              "      <td>tt0369610</td>\n",
              "      <td>32.985763</td>\n",
              "      <td>150000000</td>\n",
              "      <td>1513528810</td>\n",
              "      <td>Jurassic World</td>\n",
              "      <td>Chris Pratt|Bryce Dallas Howard|Irrfan Khan|Vi...</td>\n",
              "      <td>http://www.jurassicworld.com/</td>\n",
              "      <td>Colin Trevorrow</td>\n",
              "      <td>The park is open.</td>\n",
              "      <td>monster|dna|tyrannosaurus rex|velociraptor|island</td>\n",
              "      <td>Twenty-two years after the events of Jurassic ...</td>\n",
              "      <td>124</td>\n",
              "      <td>Action|Adventure|Science Fiction|Thriller</td>\n",
              "      <td>Universal Studios|Amblin Entertainment|Legenda...</td>\n",
              "      <td>6/9/15</td>\n",
              "      <td>5562</td>\n",
              "      <td>6.5</td>\n",
              "      <td>2015</td>\n",
              "      <td>1.379999e+08</td>\n",
              "      <td>1.392446e+09</td>\n",
              "    </tr>\n",
              "    <tr>\n",
              "      <th>1</th>\n",
              "      <td>76341</td>\n",
              "      <td>tt1392190</td>\n",
              "      <td>28.419936</td>\n",
              "      <td>150000000</td>\n",
              "      <td>378436354</td>\n",
              "      <td>Mad Max: Fury Road</td>\n",
              "      <td>Tom Hardy|Charlize Theron|Hugh Keays-Byrne|Nic...</td>\n",
              "      <td>http://www.madmaxmovie.com/</td>\n",
              "      <td>George Miller</td>\n",
              "      <td>What a Lovely Day.</td>\n",
              "      <td>future|chase|post-apocalyptic|dystopia|australia</td>\n",
              "      <td>An apocalyptic story set in the furthest reach...</td>\n",
              "      <td>120</td>\n",
              "      <td>Action|Adventure|Science Fiction|Thriller</td>\n",
              "      <td>Village Roadshow Pictures|Kennedy Miller Produ...</td>\n",
              "      <td>5/13/15</td>\n",
              "      <td>6185</td>\n",
              "      <td>7.1</td>\n",
              "      <td>2015</td>\n",
              "      <td>1.379999e+08</td>\n",
              "      <td>3.481613e+08</td>\n",
              "    </tr>\n",
              "    <tr>\n",
              "      <th>2</th>\n",
              "      <td>262500</td>\n",
              "      <td>tt2908446</td>\n",
              "      <td>13.112507</td>\n",
              "      <td>110000000</td>\n",
              "      <td>295238201</td>\n",
              "      <td>Insurgent</td>\n",
              "      <td>Shailene Woodley|Theo James|Kate Winslet|Ansel...</td>\n",
              "      <td>http://www.thedivergentseries.movie/#insurgent</td>\n",
              "      <td>Robert Schwentke</td>\n",
              "      <td>One Choice Can Destroy You</td>\n",
              "      <td>based on novel|revolution|dystopia|sequel|dyst...</td>\n",
              "      <td>Beatrice Prior must confront her inner demons ...</td>\n",
              "      <td>119</td>\n",
              "      <td>Adventure|Science Fiction|Thriller</td>\n",
              "      <td>Summit Entertainment|Mandeville Films|Red Wago...</td>\n",
              "      <td>3/18/15</td>\n",
              "      <td>2480</td>\n",
              "      <td>6.3</td>\n",
              "      <td>2015</td>\n",
              "      <td>1.012000e+08</td>\n",
              "      <td>2.716190e+08</td>\n",
              "    </tr>\n",
              "    <tr>\n",
              "      <th>3</th>\n",
              "      <td>140607</td>\n",
              "      <td>tt2488496</td>\n",
              "      <td>11.173104</td>\n",
              "      <td>200000000</td>\n",
              "      <td>2068178225</td>\n",
              "      <td>Star Wars: The Force Awakens</td>\n",
              "      <td>Harrison Ford|Mark Hamill|Carrie Fisher|Adam D...</td>\n",
              "      <td>http://www.starwars.com/films/star-wars-episod...</td>\n",
              "      <td>J.J. Abrams</td>\n",
              "      <td>Every generation has a story.</td>\n",
              "      <td>android|spaceship|jedi|space opera|3d</td>\n",
              "      <td>Thirty years after defeating the Galactic Empi...</td>\n",
              "      <td>136</td>\n",
              "      <td>Action|Adventure|Science Fiction|Fantasy</td>\n",
              "      <td>Lucasfilm|Truenorth Productions|Bad Robot</td>\n",
              "      <td>12/15/15</td>\n",
              "      <td>5292</td>\n",
              "      <td>7.5</td>\n",
              "      <td>2015</td>\n",
              "      <td>1.839999e+08</td>\n",
              "      <td>1.902723e+09</td>\n",
              "    </tr>\n",
              "    <tr>\n",
              "      <th>4</th>\n",
              "      <td>168259</td>\n",
              "      <td>tt2820852</td>\n",
              "      <td>9.335014</td>\n",
              "      <td>190000000</td>\n",
              "      <td>1506249360</td>\n",
              "      <td>Furious 7</td>\n",
              "      <td>Vin Diesel|Paul Walker|Jason Statham|Michelle ...</td>\n",
              "      <td>http://www.furious7.com/</td>\n",
              "      <td>James Wan</td>\n",
              "      <td>Vengeance Hits Home</td>\n",
              "      <td>car race|speed|revenge|suspense|car</td>\n",
              "      <td>Deckard Shaw seeks revenge against Dominic Tor...</td>\n",
              "      <td>137</td>\n",
              "      <td>Action|Crime|Thriller</td>\n",
              "      <td>Universal Pictures|Original Film|Media Rights ...</td>\n",
              "      <td>4/1/15</td>\n",
              "      <td>2947</td>\n",
              "      <td>7.3</td>\n",
              "      <td>2015</td>\n",
              "      <td>1.747999e+08</td>\n",
              "      <td>1.385749e+09</td>\n",
              "    </tr>\n",
              "  </tbody>\n",
              "</table>\n",
              "</div>"
            ],
            "text/plain": [
              "       id    imdb_id  popularity  ...  release_year    budget_adj   revenue_adj\n",
              "0  135397  tt0369610   32.985763  ...          2015  1.379999e+08  1.392446e+09\n",
              "1   76341  tt1392190   28.419936  ...          2015  1.379999e+08  3.481613e+08\n",
              "2  262500  tt2908446   13.112507  ...          2015  1.012000e+08  2.716190e+08\n",
              "3  140607  tt2488496   11.173104  ...          2015  1.839999e+08  1.902723e+09\n",
              "4  168259  tt2820852    9.335014  ...          2015  1.747999e+08  1.385749e+09\n",
              "\n",
              "[5 rows x 21 columns]"
            ]
          },
          "metadata": {
            "tags": []
          },
          "execution_count": 4
        }
      ]
    },
    {
      "cell_type": "markdown",
      "metadata": {
        "id": "8AaWlsE2EPsY",
        "colab_type": "text"
      },
      "source": [
        "### The Data Structure\n",
        "\n",
        "Before working with the data I checked the databese and looked for missing values, inconsistency or inadequate datatype. After getting more information and find out the questions I wanted to pose, I cleaned the database. There were unecessary columns with missing data, inadequate datatypes and rows with 0 value. The columns 'genres' and 'production_companies' contained multiple value that does no meet the requirements of first normal form.\n",
        "\n",
        "\n",
        "### The Cleaning Process\n",
        "\n",
        "- I removed  the columns cast, homepage, tagline, keywords, overview and imdb id to improve database performance.         \n",
        "- The column 'genres' and 'productions_companies' were not in the first normal form which requires that in the table should not have multiple value in the same row of data. I was unable to create a second joined column, so I decided to remove the values after the first '|' sign to get better groupping and cleaner visualization in the further analysis.\n",
        "- I casted release_date from string to date datatype.\n",
        "- I converted the columns revenue, budget, revenue_adj and budget_adj from float to int.\n",
        "- The 0 values would distort the result of forther calculations so I replaced the 0 in revenue, budget, revenue_adj and budget_adj with means.\n",
        "- I also replaced the Na values with 'Unknown' to improve interpretation."
      ]
    },
    {
      "cell_type": "code",
      "metadata": {
        "id": "CatzRYMAEPsZ",
        "colab_type": "code",
        "colab": {
          "base_uri": "https://localhost:8080/",
          "height": 487
        },
        "outputId": "260e402e-0f6a-4a74-d793-9964c8c2e8b1"
      },
      "source": [
        "# Get info about the database to check missing values and data types.\n",
        "\n",
        "df.info()"
      ],
      "execution_count": 5,
      "outputs": [
        {
          "output_type": "stream",
          "text": [
            "<class 'pandas.core.frame.DataFrame'>\n",
            "RangeIndex: 10866 entries, 0 to 10865\n",
            "Data columns (total 21 columns):\n",
            " #   Column                Non-Null Count  Dtype  \n",
            "---  ------                --------------  -----  \n",
            " 0   id                    10866 non-null  int64  \n",
            " 1   imdb_id               10856 non-null  object \n",
            " 2   popularity            10866 non-null  float64\n",
            " 3   budget                10866 non-null  int64  \n",
            " 4   revenue               10866 non-null  int64  \n",
            " 5   original_title        10866 non-null  object \n",
            " 6   cast                  10790 non-null  object \n",
            " 7   homepage              2936 non-null   object \n",
            " 8   director              10822 non-null  object \n",
            " 9   tagline               8042 non-null   object \n",
            " 10  keywords              9373 non-null   object \n",
            " 11  overview              10862 non-null  object \n",
            " 12  runtime               10866 non-null  int64  \n",
            " 13  genres                10843 non-null  object \n",
            " 14  production_companies  9836 non-null   object \n",
            " 15  release_date          10866 non-null  object \n",
            " 16  vote_count            10866 non-null  int64  \n",
            " 17  vote_average          10866 non-null  float64\n",
            " 18  release_year          10866 non-null  int64  \n",
            " 19  budget_adj            10866 non-null  float64\n",
            " 20  revenue_adj           10866 non-null  float64\n",
            "dtypes: float64(4), int64(6), object(11)\n",
            "memory usage: 1.7+ MB\n"
          ],
          "name": "stdout"
        }
      ]
    },
    {
      "cell_type": "markdown",
      "metadata": {
        "id": "-aFh31RhEPsg",
        "colab_type": "text"
      },
      "source": [
        "I converted the values to the proper data types."
      ]
    },
    {
      "cell_type": "code",
      "metadata": {
        "scrolled": true,
        "id": "EGKSjgrfEPsi",
        "colab_type": "code",
        "colab": {}
      },
      "source": [
        "# Convert release_date (object datatype) to date.\n",
        "\n",
        "df['release_date'] = pd.to_datetime(df['release_date'])\n",
        "\n",
        "# Convert budget_adj and revenue_adj from float to int.\n",
        "\n",
        "df['budget_adj'] = df['budget_adj'].astype(int)\n",
        "df['revenue_adj'] = df['revenue_adj'].astype(int)\n",
        "\n",
        "# convert budget and revenue from float to int.\n",
        "\n",
        "df['budget'] = df['budget'].astype(int)\n",
        "df['revenue'] = df['revenue'].astype(int)"
      ],
      "execution_count": 0,
      "outputs": []
    },
    {
      "cell_type": "markdown",
      "metadata": {
        "id": "rPd7xwnAEPsp",
        "colab_type": "text"
      },
      "source": [
        "I removed some columns to improve readability and performance."
      ]
    },
    {
      "cell_type": "code",
      "metadata": {
        "id": "hYRWAq3vEPsr",
        "colab_type": "code",
        "colab": {}
      },
      "source": [
        "# Drop the unnecessary columns\n",
        "\n",
        "df = df.drop(['cast', 'homepage', 'tagline', 'keywords', 'overview', 'imdb_id'], axis=1)"
      ],
      "execution_count": 0,
      "outputs": []
    },
    {
      "cell_type": "markdown",
      "metadata": {
        "id": "e6qO1FOGEPsy",
        "colab_type": "text"
      },
      "source": [
        "Doublecheck my results."
      ]
    },
    {
      "cell_type": "code",
      "metadata": {
        "id": "XA05qL6lEPsz",
        "colab_type": "code",
        "colab": {
          "base_uri": "https://localhost:8080/",
          "height": 386
        },
        "outputId": "c2f72f0e-79ad-4b14-ff73-81eb65dc0155"
      },
      "source": [
        "df.info()"
      ],
      "execution_count": 8,
      "outputs": [
        {
          "output_type": "stream",
          "text": [
            "<class 'pandas.core.frame.DataFrame'>\n",
            "RangeIndex: 10866 entries, 0 to 10865\n",
            "Data columns (total 15 columns):\n",
            " #   Column                Non-Null Count  Dtype         \n",
            "---  ------                --------------  -----         \n",
            " 0   id                    10866 non-null  int64         \n",
            " 1   popularity            10866 non-null  float64       \n",
            " 2   budget                10866 non-null  int64         \n",
            " 3   revenue               10866 non-null  int64         \n",
            " 4   original_title        10866 non-null  object        \n",
            " 5   director              10822 non-null  object        \n",
            " 6   runtime               10866 non-null  int64         \n",
            " 7   genres                10843 non-null  object        \n",
            " 8   production_companies  9836 non-null   object        \n",
            " 9   release_date          10866 non-null  datetime64[ns]\n",
            " 10  vote_count            10866 non-null  int64         \n",
            " 11  vote_average          10866 non-null  float64       \n",
            " 12  release_year          10866 non-null  int64         \n",
            " 13  budget_adj            10866 non-null  int64         \n",
            " 14  revenue_adj           10866 non-null  int64         \n",
            "dtypes: datetime64[ns](1), float64(2), int64(8), object(4)\n",
            "memory usage: 1.2+ MB\n"
          ],
          "name": "stdout"
        }
      ]
    },
    {
      "cell_type": "code",
      "metadata": {
        "id": "QtGwfrMZEPs8",
        "colab_type": "code",
        "colab": {}
      },
      "source": [
        "# Replace the null values in the columns with 'unknown'\n",
        "\n",
        "df['director'] = df['director'].fillna('Unknown')\n",
        "df['production_companies'] = df['production_companies'].fillna('Unknown')\n",
        "df['genres'] = df['genres'].fillna('Unknown')"
      ],
      "execution_count": 0,
      "outputs": []
    },
    {
      "cell_type": "code",
      "metadata": {
        "id": "woIK3KCVEPtE",
        "colab_type": "code",
        "colab": {
          "base_uri": "https://localhost:8080/",
          "height": 1000
        },
        "outputId": "0ac4a43a-aa24-4923-db6d-8371ba618a9e"
      },
      "source": [
        "# Check the results\n",
        "\n",
        "df.query('director == \"Unknown\"').head(20)\n",
        "df.query('production_companies == \"Unknown\"').head(20)\n",
        "df.query('genres == \"Unknown\"').head(20)"
      ],
      "execution_count": 10,
      "outputs": [
        {
          "output_type": "execute_result",
          "data": {
            "text/html": [
              "<div>\n",
              "<style scoped>\n",
              "    .dataframe tbody tr th:only-of-type {\n",
              "        vertical-align: middle;\n",
              "    }\n",
              "\n",
              "    .dataframe tbody tr th {\n",
              "        vertical-align: top;\n",
              "    }\n",
              "\n",
              "    .dataframe thead th {\n",
              "        text-align: right;\n",
              "    }\n",
              "</style>\n",
              "<table border=\"1\" class=\"dataframe\">\n",
              "  <thead>\n",
              "    <tr style=\"text-align: right;\">\n",
              "      <th></th>\n",
              "      <th>id</th>\n",
              "      <th>popularity</th>\n",
              "      <th>budget</th>\n",
              "      <th>revenue</th>\n",
              "      <th>original_title</th>\n",
              "      <th>director</th>\n",
              "      <th>runtime</th>\n",
              "      <th>genres</th>\n",
              "      <th>production_companies</th>\n",
              "      <th>release_date</th>\n",
              "      <th>vote_count</th>\n",
              "      <th>vote_average</th>\n",
              "      <th>release_year</th>\n",
              "      <th>budget_adj</th>\n",
              "      <th>revenue_adj</th>\n",
              "    </tr>\n",
              "  </thead>\n",
              "  <tbody>\n",
              "    <tr>\n",
              "      <th>424</th>\n",
              "      <td>363869</td>\n",
              "      <td>0.244648</td>\n",
              "      <td>0</td>\n",
              "      <td>0</td>\n",
              "      <td>Belli di papÃ</td>\n",
              "      <td>Guido Chiesa</td>\n",
              "      <td>100</td>\n",
              "      <td>Unknown</td>\n",
              "      <td>Unknown</td>\n",
              "      <td>2015-10-29</td>\n",
              "      <td>21</td>\n",
              "      <td>6.1</td>\n",
              "      <td>2015</td>\n",
              "      <td>0</td>\n",
              "      <td>0</td>\n",
              "    </tr>\n",
              "    <tr>\n",
              "      <th>620</th>\n",
              "      <td>361043</td>\n",
              "      <td>0.129696</td>\n",
              "      <td>0</td>\n",
              "      <td>0</td>\n",
              "      <td>All Hallows' Eve 2</td>\n",
              "      <td>Antonio Padovan|Bryan Norton|Marc Roussel|Ryan...</td>\n",
              "      <td>90</td>\n",
              "      <td>Unknown</td>\n",
              "      <td>Ruthless Pictures|Hollywood Shorts</td>\n",
              "      <td>2015-10-06</td>\n",
              "      <td>13</td>\n",
              "      <td>5.0</td>\n",
              "      <td>2015</td>\n",
              "      <td>0</td>\n",
              "      <td>0</td>\n",
              "    </tr>\n",
              "    <tr>\n",
              "      <th>997</th>\n",
              "      <td>287663</td>\n",
              "      <td>0.330431</td>\n",
              "      <td>0</td>\n",
              "      <td>0</td>\n",
              "      <td>Star Wars Rebels: Spark of Rebellion</td>\n",
              "      <td>Steward Lee|Steven G. Lee</td>\n",
              "      <td>44</td>\n",
              "      <td>Unknown</td>\n",
              "      <td>Unknown</td>\n",
              "      <td>2014-10-03</td>\n",
              "      <td>13</td>\n",
              "      <td>6.8</td>\n",
              "      <td>2014</td>\n",
              "      <td>0</td>\n",
              "      <td>0</td>\n",
              "    </tr>\n",
              "    <tr>\n",
              "      <th>1712</th>\n",
              "      <td>21634</td>\n",
              "      <td>0.302095</td>\n",
              "      <td>0</td>\n",
              "      <td>0</td>\n",
              "      <td>Prayers for Bobby</td>\n",
              "      <td>Russell Mulcahy</td>\n",
              "      <td>88</td>\n",
              "      <td>Unknown</td>\n",
              "      <td>Daniel Sladek Entertainment</td>\n",
              "      <td>2009-02-27</td>\n",
              "      <td>57</td>\n",
              "      <td>7.4</td>\n",
              "      <td>2009</td>\n",
              "      <td>0</td>\n",
              "      <td>0</td>\n",
              "    </tr>\n",
              "    <tr>\n",
              "      <th>1897</th>\n",
              "      <td>40534</td>\n",
              "      <td>0.020701</td>\n",
              "      <td>0</td>\n",
              "      <td>0</td>\n",
              "      <td>Jonas Brothers: The Concert Experience</td>\n",
              "      <td>Bruce Hendricks</td>\n",
              "      <td>76</td>\n",
              "      <td>Unknown</td>\n",
              "      <td>Unknown</td>\n",
              "      <td>2009-02-27</td>\n",
              "      <td>11</td>\n",
              "      <td>7.0</td>\n",
              "      <td>2009</td>\n",
              "      <td>0</td>\n",
              "      <td>0</td>\n",
              "    </tr>\n",
              "    <tr>\n",
              "      <th>2370</th>\n",
              "      <td>127717</td>\n",
              "      <td>0.081892</td>\n",
              "      <td>0</td>\n",
              "      <td>0</td>\n",
              "      <td>Freshman Father</td>\n",
              "      <td>Michael Scott</td>\n",
              "      <td>0</td>\n",
              "      <td>Unknown</td>\n",
              "      <td>Unknown</td>\n",
              "      <td>2010-06-05</td>\n",
              "      <td>12</td>\n",
              "      <td>5.8</td>\n",
              "      <td>2010</td>\n",
              "      <td>0</td>\n",
              "      <td>0</td>\n",
              "    </tr>\n",
              "    <tr>\n",
              "      <th>2376</th>\n",
              "      <td>315620</td>\n",
              "      <td>0.068411</td>\n",
              "      <td>0</td>\n",
              "      <td>0</td>\n",
              "      <td>Doctor Who: A Christmas Carol</td>\n",
              "      <td>Unknown</td>\n",
              "      <td>62</td>\n",
              "      <td>Unknown</td>\n",
              "      <td>Unknown</td>\n",
              "      <td>2010-12-25</td>\n",
              "      <td>11</td>\n",
              "      <td>7.7</td>\n",
              "      <td>2010</td>\n",
              "      <td>0</td>\n",
              "      <td>0</td>\n",
              "    </tr>\n",
              "    <tr>\n",
              "      <th>2853</th>\n",
              "      <td>57892</td>\n",
              "      <td>0.130018</td>\n",
              "      <td>0</td>\n",
              "      <td>0</td>\n",
              "      <td>Vizontele</td>\n",
              "      <td>YÄ±lmaz ErdoÄŸan</td>\n",
              "      <td>110</td>\n",
              "      <td>Unknown</td>\n",
              "      <td>Unknown</td>\n",
              "      <td>2001-02-02</td>\n",
              "      <td>12</td>\n",
              "      <td>7.2</td>\n",
              "      <td>2001</td>\n",
              "      <td>0</td>\n",
              "      <td>0</td>\n",
              "    </tr>\n",
              "    <tr>\n",
              "      <th>3279</th>\n",
              "      <td>54330</td>\n",
              "      <td>0.145331</td>\n",
              "      <td>0</td>\n",
              "      <td>0</td>\n",
              "      <td>ì•„ê¸°ì™€ ë‚˜</td>\n",
              "      <td>Kim Jin-Yeong</td>\n",
              "      <td>96</td>\n",
              "      <td>Unknown</td>\n",
              "      <td>Unknown</td>\n",
              "      <td>2008-08-13</td>\n",
              "      <td>11</td>\n",
              "      <td>6.1</td>\n",
              "      <td>2008</td>\n",
              "      <td>0</td>\n",
              "      <td>0</td>\n",
              "    </tr>\n",
              "    <tr>\n",
              "      <th>4547</th>\n",
              "      <td>123024</td>\n",
              "      <td>0.520520</td>\n",
              "      <td>0</td>\n",
              "      <td>0</td>\n",
              "      <td>London 2012 Olympic Opening Ceremony: Isles of...</td>\n",
              "      <td>Danny Boyle</td>\n",
              "      <td>220</td>\n",
              "      <td>Unknown</td>\n",
              "      <td>BBC</td>\n",
              "      <td>2012-07-27</td>\n",
              "      <td>12</td>\n",
              "      <td>8.3</td>\n",
              "      <td>2012</td>\n",
              "      <td>0</td>\n",
              "      <td>0</td>\n",
              "    </tr>\n",
              "    <tr>\n",
              "      <th>4732</th>\n",
              "      <td>139463</td>\n",
              "      <td>0.235911</td>\n",
              "      <td>0</td>\n",
              "      <td>0</td>\n",
              "      <td>The Scapegoat</td>\n",
              "      <td>Charles Sturridge</td>\n",
              "      <td>100</td>\n",
              "      <td>Unknown</td>\n",
              "      <td>Island Pictures</td>\n",
              "      <td>2012-09-09</td>\n",
              "      <td>12</td>\n",
              "      <td>6.2</td>\n",
              "      <td>2012</td>\n",
              "      <td>0</td>\n",
              "      <td>0</td>\n",
              "    </tr>\n",
              "    <tr>\n",
              "      <th>4797</th>\n",
              "      <td>369145</td>\n",
              "      <td>0.167501</td>\n",
              "      <td>0</td>\n",
              "      <td>0</td>\n",
              "      <td>Doctor Who: The Snowmen</td>\n",
              "      <td>Unknown</td>\n",
              "      <td>60</td>\n",
              "      <td>Unknown</td>\n",
              "      <td>BBC Television UK</td>\n",
              "      <td>2012-12-25</td>\n",
              "      <td>10</td>\n",
              "      <td>7.8</td>\n",
              "      <td>2012</td>\n",
              "      <td>0</td>\n",
              "      <td>0</td>\n",
              "    </tr>\n",
              "    <tr>\n",
              "      <th>4890</th>\n",
              "      <td>126909</td>\n",
              "      <td>0.083202</td>\n",
              "      <td>0</td>\n",
              "      <td>0</td>\n",
              "      <td>Cousin Ben Troop Screening</td>\n",
              "      <td>Wes Anderson</td>\n",
              "      <td>2</td>\n",
              "      <td>Unknown</td>\n",
              "      <td>Unknown</td>\n",
              "      <td>2012-01-01</td>\n",
              "      <td>14</td>\n",
              "      <td>7.0</td>\n",
              "      <td>2012</td>\n",
              "      <td>0</td>\n",
              "      <td>0</td>\n",
              "    </tr>\n",
              "    <tr>\n",
              "      <th>5830</th>\n",
              "      <td>282848</td>\n",
              "      <td>0.248944</td>\n",
              "      <td>0</td>\n",
              "      <td>0</td>\n",
              "      <td>Doctor Who: The Time of the Doctor</td>\n",
              "      <td>James Payne</td>\n",
              "      <td>60</td>\n",
              "      <td>Unknown</td>\n",
              "      <td>Unknown</td>\n",
              "      <td>2013-12-25</td>\n",
              "      <td>26</td>\n",
              "      <td>8.5</td>\n",
              "      <td>2013</td>\n",
              "      <td>0</td>\n",
              "      <td>0</td>\n",
              "    </tr>\n",
              "    <tr>\n",
              "      <th>5934</th>\n",
              "      <td>200204</td>\n",
              "      <td>0.067433</td>\n",
              "      <td>0</td>\n",
              "      <td>0</td>\n",
              "      <td>Prada: Candy</td>\n",
              "      <td>Wes Anderson|Roman Coppola</td>\n",
              "      <td>3</td>\n",
              "      <td>Unknown</td>\n",
              "      <td>Unknown</td>\n",
              "      <td>2013-03-25</td>\n",
              "      <td>27</td>\n",
              "      <td>6.9</td>\n",
              "      <td>2013</td>\n",
              "      <td>0</td>\n",
              "      <td>0</td>\n",
              "    </tr>\n",
              "    <tr>\n",
              "      <th>6043</th>\n",
              "      <td>190940</td>\n",
              "      <td>0.039080</td>\n",
              "      <td>0</td>\n",
              "      <td>0</td>\n",
              "      <td>Bombay Talkies</td>\n",
              "      <td>Anurag Kashyap|Dibakar Banerjee|Zoya Akhtar|Ka...</td>\n",
              "      <td>127</td>\n",
              "      <td>Unknown</td>\n",
              "      <td>Viacom 18 Motion Pictures</td>\n",
              "      <td>2013-05-03</td>\n",
              "      <td>12</td>\n",
              "      <td>5.9</td>\n",
              "      <td>2013</td>\n",
              "      <td>0</td>\n",
              "      <td>0</td>\n",
              "    </tr>\n",
              "    <tr>\n",
              "      <th>6530</th>\n",
              "      <td>168891</td>\n",
              "      <td>0.092724</td>\n",
              "      <td>0</td>\n",
              "      <td>0</td>\n",
              "      <td>Saw Rebirth</td>\n",
              "      <td>Jeff Shuter|Daniel Viney</td>\n",
              "      <td>6</td>\n",
              "      <td>Unknown</td>\n",
              "      <td>Unknown</td>\n",
              "      <td>2005-10-24</td>\n",
              "      <td>24</td>\n",
              "      <td>5.9</td>\n",
              "      <td>2005</td>\n",
              "      <td>0</td>\n",
              "      <td>0</td>\n",
              "    </tr>\n",
              "    <tr>\n",
              "      <th>8234</th>\n",
              "      <td>56804</td>\n",
              "      <td>0.028874</td>\n",
              "      <td>0</td>\n",
              "      <td>0</td>\n",
              "      <td>Viaggi di nozze</td>\n",
              "      <td>Carlo Verdone</td>\n",
              "      <td>103</td>\n",
              "      <td>Unknown</td>\n",
              "      <td>Unknown</td>\n",
              "      <td>1995-12-15</td>\n",
              "      <td>44</td>\n",
              "      <td>6.7</td>\n",
              "      <td>1995</td>\n",
              "      <td>0</td>\n",
              "      <td>0</td>\n",
              "    </tr>\n",
              "    <tr>\n",
              "      <th>8614</th>\n",
              "      <td>65595</td>\n",
              "      <td>0.273934</td>\n",
              "      <td>0</td>\n",
              "      <td>0</td>\n",
              "      <td>T2 3-D: Battle Across Time</td>\n",
              "      <td>James Cameron</td>\n",
              "      <td>12</td>\n",
              "      <td>Unknown</td>\n",
              "      <td>Unknown</td>\n",
              "      <td>1996-01-01</td>\n",
              "      <td>14</td>\n",
              "      <td>6.7</td>\n",
              "      <td>1996</td>\n",
              "      <td>0</td>\n",
              "      <td>0</td>\n",
              "    </tr>\n",
              "    <tr>\n",
              "      <th>8878</th>\n",
              "      <td>92208</td>\n",
              "      <td>0.038045</td>\n",
              "      <td>0</td>\n",
              "      <td>0</td>\n",
              "      <td>Mom's Got a Date With a Vampire</td>\n",
              "      <td>Steve Boyum</td>\n",
              "      <td>85</td>\n",
              "      <td>Unknown</td>\n",
              "      <td>Walt Disney Pictures</td>\n",
              "      <td>2000-10-13</td>\n",
              "      <td>16</td>\n",
              "      <td>5.4</td>\n",
              "      <td>2000</td>\n",
              "      <td>0</td>\n",
              "      <td>0</td>\n",
              "    </tr>\n",
              "  </tbody>\n",
              "</table>\n",
              "</div>"
            ],
            "text/plain": [
              "          id  popularity  budget  ...  release_year budget_adj revenue_adj\n",
              "424   363869    0.244648       0  ...          2015          0           0\n",
              "620   361043    0.129696       0  ...          2015          0           0\n",
              "997   287663    0.330431       0  ...          2014          0           0\n",
              "1712   21634    0.302095       0  ...          2009          0           0\n",
              "1897   40534    0.020701       0  ...          2009          0           0\n",
              "2370  127717    0.081892       0  ...          2010          0           0\n",
              "2376  315620    0.068411       0  ...          2010          0           0\n",
              "2853   57892    0.130018       0  ...          2001          0           0\n",
              "3279   54330    0.145331       0  ...          2008          0           0\n",
              "4547  123024    0.520520       0  ...          2012          0           0\n",
              "4732  139463    0.235911       0  ...          2012          0           0\n",
              "4797  369145    0.167501       0  ...          2012          0           0\n",
              "4890  126909    0.083202       0  ...          2012          0           0\n",
              "5830  282848    0.248944       0  ...          2013          0           0\n",
              "5934  200204    0.067433       0  ...          2013          0           0\n",
              "6043  190940    0.039080       0  ...          2013          0           0\n",
              "6530  168891    0.092724       0  ...          2005          0           0\n",
              "8234   56804    0.028874       0  ...          1995          0           0\n",
              "8614   65595    0.273934       0  ...          1996          0           0\n",
              "8878   92208    0.038045       0  ...          2000          0           0\n",
              "\n",
              "[20 rows x 15 columns]"
            ]
          },
          "metadata": {
            "tags": []
          },
          "execution_count": 10
        }
      ]
    },
    {
      "cell_type": "markdown",
      "metadata": {
        "id": "l8osJe0MEPtM",
        "colab_type": "text"
      },
      "source": [
        "I deleted some data from the rows with multiple values."
      ]
    },
    {
      "cell_type": "code",
      "metadata": {
        "id": "Z5htFWGbEPtO",
        "colab_type": "code",
        "colab": {}
      },
      "source": [
        "# df['genres'] = df['genres'].apply(lambda x: x.split('|')[0])\n",
        "df['production_companies'] = df['production_companies'].apply(lambda x: x.split('|')[0])"
      ],
      "execution_count": 0,
      "outputs": []
    },
    {
      "cell_type": "code",
      "metadata": {
        "id": "u_iBW7n1EPtV",
        "colab_type": "code",
        "colab": {
          "base_uri": "https://localhost:8080/",
          "height": 286
        },
        "outputId": "ef6a556e-64a7-4cf1-f5d2-ac377d6e229e"
      },
      "source": [
        "# Check changes\n",
        "df['production_companies'].head(15)"
      ],
      "execution_count": 12,
      "outputs": [
        {
          "output_type": "execute_result",
          "data": {
            "text/plain": [
              "0                          Universal Studios\n",
              "1                  Village Roadshow Pictures\n",
              "2                       Summit Entertainment\n",
              "3                                  Lucasfilm\n",
              "4                         Universal Pictures\n",
              "5                        Regency Enterprises\n",
              "6                         Paramount Pictures\n",
              "7     Twentieth Century Fox Film Corporation\n",
              "8                         Universal Pictures\n",
              "9                       Walt Disney Pictures\n",
              "10                         Columbia Pictures\n",
              "11                 Village Roadshow Pictures\n",
              "12                                 DNA Films\n",
              "13                         Columbia Pictures\n",
              "14                            Marvel Studios\n",
              "Name: production_companies, dtype: object"
            ]
          },
          "metadata": {
            "tags": []
          },
          "execution_count": 12
        }
      ]
    },
    {
      "cell_type": "markdown",
      "metadata": {
        "id": "BR4tGBtFEPte",
        "colab_type": "text"
      },
      "source": [
        "I replace 0 values with means in columns budget_adj and revenue_ad, budget and revenue."
      ]
    },
    {
      "cell_type": "code",
      "metadata": {
        "id": "dfbObdbSEPtf",
        "colab_type": "code",
        "colab": {}
      },
      "source": [
        "df['budget']=df['budget'].replace(0,df['budget'].mean())\n",
        "\n",
        "df['revenue']=df['revenue'].replace(0,df['revenue'].mean())\n",
        "\n",
        "df['budget_adj']=df['budget_adj'].replace(0,df['budget_adj'].mean())\n",
        "\n",
        "df['revenue_adj']=df['revenue_adj'].replace(0,df['revenue_adj'].mean())"
      ],
      "execution_count": 0,
      "outputs": []
    },
    {
      "cell_type": "code",
      "metadata": {
        "id": "qsA_ubo8EPtn",
        "colab_type": "code",
        "colab": {
          "base_uri": "https://localhost:8080/",
          "height": 386
        },
        "outputId": "7650f99e-3c73-401d-e936-7e15a4fccdc3"
      },
      "source": [
        "df.info()"
      ],
      "execution_count": 14,
      "outputs": [
        {
          "output_type": "stream",
          "text": [
            "<class 'pandas.core.frame.DataFrame'>\n",
            "RangeIndex: 10866 entries, 0 to 10865\n",
            "Data columns (total 15 columns):\n",
            " #   Column                Non-Null Count  Dtype         \n",
            "---  ------                --------------  -----         \n",
            " 0   id                    10866 non-null  int64         \n",
            " 1   popularity            10866 non-null  float64       \n",
            " 2   budget                10866 non-null  float64       \n",
            " 3   revenue               10866 non-null  float64       \n",
            " 4   original_title        10866 non-null  object        \n",
            " 5   director              10866 non-null  object        \n",
            " 6   runtime               10866 non-null  int64         \n",
            " 7   genres                10866 non-null  object        \n",
            " 8   production_companies  10866 non-null  object        \n",
            " 9   release_date          10866 non-null  datetime64[ns]\n",
            " 10  vote_count            10866 non-null  int64         \n",
            " 11  vote_average          10866 non-null  float64       \n",
            " 12  release_year          10866 non-null  int64         \n",
            " 13  budget_adj            10866 non-null  float64       \n",
            " 14  revenue_adj           10866 non-null  float64       \n",
            "dtypes: datetime64[ns](1), float64(6), int64(4), object(4)\n",
            "memory usage: 1.2+ MB\n"
          ],
          "name": "stdout"
        }
      ]
    },
    {
      "cell_type": "markdown",
      "metadata": {
        "id": "-wFgmE0REPtv",
        "colab_type": "text"
      },
      "source": [
        "<a id='eda'></a>\n",
        "## Exploratory Data Analysis\n",
        "\n",
        "I recently read an article about the evolution of Western movies. It mentioned that the most prolific era was in the 1930s to the 1960s and the genre almost vanished in the 1980s. Tthere were little sign of resurgence after the 1990s but Western has not got back its popularity yet. As I am a big fan of the genre, I decided to analyze its populatiry over the decades and test the assumptions on the data. However, I use the article only as an interesting starting point - I do not intend to draw far-reaching conclusions.\n",
        "\n",
        "### 1. Have changed the popularity of Western movies over the decades?"
      ]
    },
    {
      "cell_type": "markdown",
      "metadata": {
        "id": "_od4oElbEPtw",
        "colab_type": "text"
      },
      "source": [
        "At first, I created a smaller dataframe which contained movies where in the column 'genre' appeared the word 'Western'. I decided to get every Western influenced or Western styled movie, I did not want to define the conditions too strict to get a bigger dataframe. I also planned to analyze the popularity by decades, not by release_year."
      ]
    },
    {
      "cell_type": "code",
      "metadata": {
        "id": "dYbgKQxAEPtx",
        "colab_type": "code",
        "colab": {}
      },
      "source": [
        "# Create dataframe to every movie with the genre 'Western'\n",
        "\n",
        "df_western = df[df['genres'].str.contains(\"Western\")]"
      ],
      "execution_count": 0,
      "outputs": []
    },
    {
      "cell_type": "markdown",
      "metadata": {
        "id": "ZJuGYgkfEPt4",
        "colab_type": "text"
      },
      "source": [
        "To check the results I simply counted the records in the dataframe, the records with genre 'Western', and compared the numbers. I got True, so the two values are the same."
      ]
    },
    {
      "cell_type": "code",
      "metadata": {
        "id": "QbVIJu2nEPt5",
        "colab_type": "code",
        "colab": {
          "base_uri": "https://localhost:8080/",
          "height": 34
        },
        "outputId": "840a53dc-7746-4349-e72b-01da028a8f0d"
      },
      "source": [
        "# Check the results by comparing the calculations.\n",
        "\n",
        "df_western.genres.str.contains(r'Western').sum() == df_western['id'].count()"
      ],
      "execution_count": 16,
      "outputs": [
        {
          "output_type": "execute_result",
          "data": {
            "text/plain": [
              "True"
            ]
          },
          "metadata": {
            "tags": []
          },
          "execution_count": 16
        }
      ]
    },
    {
      "cell_type": "markdown",
      "metadata": {
        "id": "CvlNoMe9EPuB",
        "colab_type": "text"
      },
      "source": [
        "Mapping the release years to decades."
      ]
    },
    {
      "cell_type": "code",
      "metadata": {
        "id": "BxtAk4CnEPuC",
        "colab_type": "code",
        "colab": {
          "base_uri": "https://localhost:8080/",
          "height": 417
        },
        "outputId": "4a079e1b-46b2-4fe0-9573-bf4ddbc99d1a"
      },
      "source": [
        "# Create bin edges to decades\n",
        "decades = [1960, 1970, 1980, 1990, 2000, 2010, 2020]\n",
        "\n",
        "# Create labels \n",
        "decade_names = ['1960', '1970', '1980', '1990', '2000', '2010']\n",
        "\n",
        "# Create new column and cut into bins\n",
        "df_western['release_decade'] = pd.cut(df['release_year'], decades, labels=decade_names)\n",
        "\n",
        "df_western.head()\n"
      ],
      "execution_count": 17,
      "outputs": [
        {
          "output_type": "stream",
          "text": [
            "/usr/local/lib/python3.6/dist-packages/ipykernel_launcher.py:7: SettingWithCopyWarning: \n",
            "A value is trying to be set on a copy of a slice from a DataFrame.\n",
            "Try using .loc[row_indexer,col_indexer] = value instead\n",
            "\n",
            "See the caveats in the documentation: https://pandas.pydata.org/pandas-docs/stable/user_guide/indexing.html#returning-a-view-versus-a-copy\n",
            "  import sys\n"
          ],
          "name": "stderr"
        },
        {
          "output_type": "execute_result",
          "data": {
            "text/html": [
              "<div>\n",
              "<style scoped>\n",
              "    .dataframe tbody tr th:only-of-type {\n",
              "        vertical-align: middle;\n",
              "    }\n",
              "\n",
              "    .dataframe tbody tr th {\n",
              "        vertical-align: top;\n",
              "    }\n",
              "\n",
              "    .dataframe thead th {\n",
              "        text-align: right;\n",
              "    }\n",
              "</style>\n",
              "<table border=\"1\" class=\"dataframe\">\n",
              "  <thead>\n",
              "    <tr style=\"text-align: right;\">\n",
              "      <th></th>\n",
              "      <th>id</th>\n",
              "      <th>popularity</th>\n",
              "      <th>budget</th>\n",
              "      <th>revenue</th>\n",
              "      <th>original_title</th>\n",
              "      <th>director</th>\n",
              "      <th>runtime</th>\n",
              "      <th>genres</th>\n",
              "      <th>production_companies</th>\n",
              "      <th>release_date</th>\n",
              "      <th>vote_count</th>\n",
              "      <th>vote_average</th>\n",
              "      <th>release_year</th>\n",
              "      <th>budget_adj</th>\n",
              "      <th>revenue_adj</th>\n",
              "      <th>release_decade</th>\n",
              "    </tr>\n",
              "  </thead>\n",
              "  <tbody>\n",
              "    <tr>\n",
              "      <th>5</th>\n",
              "      <td>281957</td>\n",
              "      <td>9.110700</td>\n",
              "      <td>1.350000e+08</td>\n",
              "      <td>5.329505e+08</td>\n",
              "      <td>The Revenant</td>\n",
              "      <td>Alejandro GonzÃ¡lez IÃ±Ã¡rritu</td>\n",
              "      <td>156</td>\n",
              "      <td>Western|Drama|Adventure|Thriller</td>\n",
              "      <td>Regency Enterprises</td>\n",
              "      <td>2015-12-25</td>\n",
              "      <td>3929</td>\n",
              "      <td>7.2</td>\n",
              "      <td>2015</td>\n",
              "      <td>1.241999e+08</td>\n",
              "      <td>4.903142e+08</td>\n",
              "      <td>2010</td>\n",
              "    </tr>\n",
              "    <tr>\n",
              "      <th>15</th>\n",
              "      <td>273248</td>\n",
              "      <td>5.898400</td>\n",
              "      <td>4.400000e+07</td>\n",
              "      <td>1.557601e+08</td>\n",
              "      <td>The Hateful Eight</td>\n",
              "      <td>Quentin Tarantino</td>\n",
              "      <td>167</td>\n",
              "      <td>Crime|Drama|Mystery|Western</td>\n",
              "      <td>Double Feature Films</td>\n",
              "      <td>2015-12-25</td>\n",
              "      <td>2389</td>\n",
              "      <td>7.4</td>\n",
              "      <td>2015</td>\n",
              "      <td>4.047998e+07</td>\n",
              "      <td>1.432992e+08</td>\n",
              "      <td>2010</td>\n",
              "    </tr>\n",
              "    <tr>\n",
              "      <th>125</th>\n",
              "      <td>223485</td>\n",
              "      <td>1.329702</td>\n",
              "      <td>1.462570e+07</td>\n",
              "      <td>2.290940e+05</td>\n",
              "      <td>Slow West</td>\n",
              "      <td>John Maclean</td>\n",
              "      <td>84</td>\n",
              "      <td>Romance|Thriller|Western</td>\n",
              "      <td>The New Zealand Film Commission</td>\n",
              "      <td>2015-04-16</td>\n",
              "      <td>229</td>\n",
              "      <td>6.6</td>\n",
              "      <td>2015</td>\n",
              "      <td>1.755104e+07</td>\n",
              "      <td>2.107660e+05</td>\n",
              "      <td>2010</td>\n",
              "    </tr>\n",
              "    <tr>\n",
              "      <th>145</th>\n",
              "      <td>294963</td>\n",
              "      <td>1.073349</td>\n",
              "      <td>1.800000e+06</td>\n",
              "      <td>3.982332e+07</td>\n",
              "      <td>Bone Tomahawk</td>\n",
              "      <td>S. Craig Zahler</td>\n",
              "      <td>132</td>\n",
              "      <td>Horror|Western|Adventure|Drama</td>\n",
              "      <td>Caliber Media Company</td>\n",
              "      <td>2015-10-23</td>\n",
              "      <td>220</td>\n",
              "      <td>6.3</td>\n",
              "      <td>2015</td>\n",
              "      <td>1.655999e+06</td>\n",
              "      <td>5.136436e+07</td>\n",
              "      <td>2010</td>\n",
              "    </tr>\n",
              "    <tr>\n",
              "      <th>165</th>\n",
              "      <td>347969</td>\n",
              "      <td>0.913085</td>\n",
              "      <td>6.000000e+07</td>\n",
              "      <td>3.982332e+07</td>\n",
              "      <td>The Ridiculous 6</td>\n",
              "      <td>Frank Coraci</td>\n",
              "      <td>119</td>\n",
              "      <td>Comedy|Western</td>\n",
              "      <td>Happy Madison Productions</td>\n",
              "      <td>2015-12-11</td>\n",
              "      <td>252</td>\n",
              "      <td>4.8</td>\n",
              "      <td>2015</td>\n",
              "      <td>5.519998e+07</td>\n",
              "      <td>5.136436e+07</td>\n",
              "      <td>2010</td>\n",
              "    </tr>\n",
              "  </tbody>\n",
              "</table>\n",
              "</div>"
            ],
            "text/plain": [
              "         id  popularity  ...   revenue_adj  release_decade\n",
              "5    281957    9.110700  ...  4.903142e+08            2010\n",
              "15   273248    5.898400  ...  1.432992e+08            2010\n",
              "125  223485    1.329702  ...  2.107660e+05            2010\n",
              "145  294963    1.073349  ...  5.136436e+07            2010\n",
              "165  347969    0.913085  ...  5.136436e+07            2010\n",
              "\n",
              "[5 rows x 16 columns]"
            ]
          },
          "metadata": {
            "tags": []
          },
          "execution_count": 17
        }
      ]
    },
    {
      "cell_type": "code",
      "metadata": {
        "id": "J91jGxkIEPuJ",
        "colab_type": "code",
        "colab": {
          "base_uri": "https://localhost:8080/",
          "height": 225
        },
        "outputId": "28ea98f8-87a3-4843-c6e8-1b283a7d0a70"
      },
      "source": [
        "# Check if western movies are available in every decade and count their number\n",
        "\n",
        "df_western.groupby(['release_decade'], as_index = False)['id'].count()"
      ],
      "execution_count": 18,
      "outputs": [
        {
          "output_type": "execute_result",
          "data": {
            "text/html": [
              "<div>\n",
              "<style scoped>\n",
              "    .dataframe tbody tr th:only-of-type {\n",
              "        vertical-align: middle;\n",
              "    }\n",
              "\n",
              "    .dataframe tbody tr th {\n",
              "        vertical-align: top;\n",
              "    }\n",
              "\n",
              "    .dataframe thead th {\n",
              "        text-align: right;\n",
              "    }\n",
              "</style>\n",
              "<table border=\"1\" class=\"dataframe\">\n",
              "  <thead>\n",
              "    <tr style=\"text-align: right;\">\n",
              "      <th></th>\n",
              "      <th>release_decade</th>\n",
              "      <th>id</th>\n",
              "    </tr>\n",
              "  </thead>\n",
              "  <tbody>\n",
              "    <tr>\n",
              "      <th>0</th>\n",
              "      <td>1960</td>\n",
              "      <td>38</td>\n",
              "    </tr>\n",
              "    <tr>\n",
              "      <th>1</th>\n",
              "      <td>1970</td>\n",
              "      <td>33</td>\n",
              "    </tr>\n",
              "    <tr>\n",
              "      <th>2</th>\n",
              "      <td>1980</td>\n",
              "      <td>12</td>\n",
              "    </tr>\n",
              "    <tr>\n",
              "      <th>3</th>\n",
              "      <td>1990</td>\n",
              "      <td>24</td>\n",
              "    </tr>\n",
              "    <tr>\n",
              "      <th>4</th>\n",
              "      <td>2000</td>\n",
              "      <td>30</td>\n",
              "    </tr>\n",
              "    <tr>\n",
              "      <th>5</th>\n",
              "      <td>2010</td>\n",
              "      <td>22</td>\n",
              "    </tr>\n",
              "  </tbody>\n",
              "</table>\n",
              "</div>"
            ],
            "text/plain": [
              "  release_decade  id\n",
              "0           1960  38\n",
              "1           1970  33\n",
              "2           1980  12\n",
              "3           1990  24\n",
              "4           2000  30\n",
              "5           2010  22"
            ]
          },
          "metadata": {
            "tags": []
          },
          "execution_count": 18
        }
      ]
    },
    {
      "cell_type": "code",
      "metadata": {
        "id": "XX9tprN6EPuT",
        "colab_type": "code",
        "colab": {
          "base_uri": "https://localhost:8080/",
          "height": 225
        },
        "outputId": "69383618-c665-4b86-ba4e-1f8e9ac6321b"
      },
      "source": [
        "# Get the average popularity by decades\n",
        "\n",
        "df_western.groupby(['release_decade'], as_index = False)['popularity'].mean()"
      ],
      "execution_count": 19,
      "outputs": [
        {
          "output_type": "execute_result",
          "data": {
            "text/html": [
              "<div>\n",
              "<style scoped>\n",
              "    .dataframe tbody tr th:only-of-type {\n",
              "        vertical-align: middle;\n",
              "    }\n",
              "\n",
              "    .dataframe tbody tr th {\n",
              "        vertical-align: top;\n",
              "    }\n",
              "\n",
              "    .dataframe thead th {\n",
              "        text-align: right;\n",
              "    }\n",
              "</style>\n",
              "<table border=\"1\" class=\"dataframe\">\n",
              "  <thead>\n",
              "    <tr style=\"text-align: right;\">\n",
              "      <th></th>\n",
              "      <th>release_decade</th>\n",
              "      <th>popularity</th>\n",
              "    </tr>\n",
              "  </thead>\n",
              "  <tbody>\n",
              "    <tr>\n",
              "      <th>0</th>\n",
              "      <td>1960</td>\n",
              "      <td>0.301672</td>\n",
              "    </tr>\n",
              "    <tr>\n",
              "      <th>1</th>\n",
              "      <td>1970</td>\n",
              "      <td>0.315369</td>\n",
              "    </tr>\n",
              "    <tr>\n",
              "      <th>2</th>\n",
              "      <td>1980</td>\n",
              "      <td>0.429861</td>\n",
              "    </tr>\n",
              "    <tr>\n",
              "      <th>3</th>\n",
              "      <td>1990</td>\n",
              "      <td>0.544739</td>\n",
              "    </tr>\n",
              "    <tr>\n",
              "      <th>4</th>\n",
              "      <td>2000</td>\n",
              "      <td>0.612382</td>\n",
              "    </tr>\n",
              "    <tr>\n",
              "      <th>5</th>\n",
              "      <td>2010</td>\n",
              "      <td>1.616852</td>\n",
              "    </tr>\n",
              "  </tbody>\n",
              "</table>\n",
              "</div>"
            ],
            "text/plain": [
              "  release_decade  popularity\n",
              "0           1960    0.301672\n",
              "1           1970    0.315369\n",
              "2           1980    0.429861\n",
              "3           1990    0.544739\n",
              "4           2000    0.612382\n",
              "5           2010    1.616852"
            ]
          },
          "metadata": {
            "tags": []
          },
          "execution_count": 19
        }
      ]
    },
    {
      "cell_type": "code",
      "metadata": {
        "id": "rTLGFA0bEPub",
        "colab_type": "code",
        "colab": {}
      },
      "source": [
        "# Get the mean of vote_average in every decade\n",
        "\n",
        "df_1960 = df_western.query('release_decade == \"1960\"')\n",
        "df_1960_mean = df_1960['popularity'].mean()\n",
        "\n",
        "df_1970 = df_western.query('release_decade == \"1970\"')\n",
        "df_1970_mean = df_1970['popularity'].mean()\n",
        "\n",
        "df_1980 = df_western.query('release_decade == \"1980\"')\n",
        "df_1980_mean = df_1980['popularity'].mean()\n",
        "\n",
        "df_1990 = df_western.query('release_decade == \"1990\"')\n",
        "df_1990_mean = df_1990['popularity'].mean()\n",
        "\n",
        "df_2000 = df_western.query('release_decade == \"2000\"')\n",
        "df_2000_mean = df_2000['popularity'].mean()\n",
        "\n",
        "df_2010 = df_western.query('release_decade == \"2010\"')\n",
        "df_2010_mean = df_2010['popularity'].mean()"
      ],
      "execution_count": 0,
      "outputs": []
    },
    {
      "cell_type": "code",
      "metadata": {
        "id": "RxPfxPrjEPuh",
        "colab_type": "code",
        "colab": {
          "base_uri": "https://localhost:8080/",
          "height": 295
        },
        "outputId": "51d8762d-d2df-4c8c-8bb2-f7f4cb423d4d"
      },
      "source": [
        "# labels_decades = (\"60's\", \"70's\", \"80's\", \"90's\", \"2000's\", \"2010's\")\n",
        "\n",
        "# df_western_avg_votes.plot(tick_label = labels_decades, kind = 'bar', title ='Average Votes by Decade')\n",
        "\n",
        "# createa bar chart with labels\n",
        "\n",
        "locations = [1, 2, 3, 4, 5, 6]\n",
        "heights = [df_1960_mean, df_1970_mean, df_1980_mean, df_1990_mean, df_2000_mean, df_2010_mean]\n",
        "labels = ['1960s', '1970s', '1980s', '1990s', '2000s', '2010s']\n",
        "plt.bar(locations, heights, tick_label=labels, color = 'b', )\n",
        "plt.title('Average Popularity by Decade for Western Movies')\n",
        "plt.xlabel('Decades')\n",
        "plt.ylabel('Popularity');"
      ],
      "execution_count": 21,
      "outputs": [
        {
          "output_type": "display_data",
          "data": {
            "image/png": "[encoded data removed]",
            "text/plain": [
              "<Figure size 432x288 with 1 Axes>"
            ]
          },
          "metadata": {
            "tags": [],
            "needs_background": "light"
          }
        }
      ]
    },
    {
      "cell_type": "markdown",
      "metadata": {
        "id": "0-oy4UsBEPun",
        "colab_type": "text"
      },
      "source": [
        "As we can see, the popularity has steadly grew over the years which does not meet our expectations. But during the calculations I found something else that can confirm the assumptions, so I created another chart to visualize the popularity of the genre. In this case, I simply display the number of released Western movies. "
      ]
    },
    {
      "cell_type": "code",
      "metadata": {
        "id": "ROZB2DOXEPuo",
        "colab_type": "code",
        "colab": {
          "base_uri": "https://localhost:8080/",
          "height": 432
        },
        "outputId": "bc056d58-9c37-4ce2-ef11-25ed7e20d53f"
      },
      "source": [
        "df_west_sum = df_western.groupby(['release_decade'], as_index = False)['id'].count()\n",
        "\n",
        "years = ('1960', '1970', '1980', '1990', '2000', '2010')\n",
        "pos = np.arange(0, 6, 1)\n",
        "plt.xticks(pos, years)\n",
        "bar_heights = df_west_sum['id']\n",
        "\n",
        "print('Sum of Released Movies: ')\n",
        "print(df_west_sum)\n",
        "\n",
        "dc_bars = plt.bar(x = years, color='b', alpha=.5, height = bar_heights)\n",
        "\n",
        "plt.ylabel('Number of Movies')\n",
        "plt.title('Number of Released Western Movies from 1960')\n",
        "\n",
        "plt.legend()\n",
        "plt.show()"
      ],
      "execution_count": 22,
      "outputs": [
        {
          "output_type": "stream",
          "text": [
            "No handles with labels found to put in legend.\n"
          ],
          "name": "stderr"
        },
        {
          "output_type": "stream",
          "text": [
            "Sum of Released Movies: \n",
            "  release_decade  id\n",
            "0           1960  38\n",
            "1           1970  33\n",
            "2           1980  12\n",
            "3           1990  24\n",
            "4           2000  30\n",
            "5           2010  22\n"
          ],
          "name": "stdout"
        },
        {
          "output_type": "display_data",
          "data": {
            "image/png": "[encoded data removed]",
            "text/plain": [
              "<Figure size 432x288 with 1 Axes>"
            ]
          },
          "metadata": {
            "tags": [],
            "needs_background": "light"
          }
        }
      ]
    },
    {
      "cell_type": "markdown",
      "metadata": {
        "id": "VmXvIpglEPuw",
        "colab_type": "text"
      },
      "source": [
        "According to the chart, the number of Western movies slide started to slide steeply after the '70s and reached the bottom in the '80s. If we measured the evolution and popularity of Western by the number of released movies, the results would meet our assumptions but I would not like to imply causation based on my results."
      ]
    },
    {
      "cell_type": "markdown",
      "metadata": {
        "id": "GM6xc4tSEPux",
        "colab_type": "text"
      },
      "source": [
        "## 2. Ratings for the Cheapest and Most Expensive Movies"
      ]
    },
    {
      "cell_type": "markdown",
      "metadata": {
        "id": "BmlkbZduEPuy",
        "colab_type": "text"
      },
      "source": [
        "I was curious about if there are any measurable difference between votes of the most and the least expensive movies. I decided to get information about the most and least expensive films and viualize the distribution of their votes in one histogram."
      ]
    },
    {
      "cell_type": "markdown",
      "metadata": {
        "id": "MkC_9UNKEPuz",
        "colab_type": "text"
      },
      "source": [
        "### Part 1: Get the most expensive movies"
      ]
    },
    {
      "cell_type": "markdown",
      "metadata": {
        "id": "1jNV5UAmEPu0",
        "colab_type": "text"
      },
      "source": [
        "At first, I sorted the movies by budget to get the 200 most expensive movies from the database."
      ]
    },
    {
      "cell_type": "code",
      "metadata": {
        "id": "iSCrB8L8EPu4",
        "colab_type": "code",
        "colab": {}
      },
      "source": [
        "# Sort movies by budget in descending order\n",
        "\n",
        "sorted_budget_biggest = df.sort_values(by=['budget_adj'], ascending = False).head(200)"
      ],
      "execution_count": 0,
      "outputs": []
    },
    {
      "cell_type": "markdown",
      "metadata": {
        "id": "YJFwXxOjEPvA",
        "colab_type": "text"
      },
      "source": [
        "I got the most expensive movies and their ratings."
      ]
    },
    {
      "cell_type": "code",
      "metadata": {
        "id": "MlkocbL4EPvB",
        "colab_type": "code",
        "colab": {
          "base_uri": "https://localhost:8080/",
          "height": 235
        },
        "outputId": "681ed1f7-3f5a-4e4d-fd2f-2316cbc3df57"
      },
      "source": [
        "# Get the most expensive movies with ratings\n",
        "\n",
        "sorted_budget_biggest.groupby('original_title')['vote_average'].mean()"
      ],
      "execution_count": 24,
      "outputs": [
        {
          "output_type": "execute_result",
          "data": {
            "text/plain": [
              "original_title\n",
              "2012                          5.6\n",
              "47 Ronin                      5.8\n",
              "A Bug's Life                  6.6\n",
              "A Christmas Carol             6.6\n",
              "Alexander                     5.6\n",
              "                             ... \n",
              "Wreck-It Ralph                7.0\n",
              "X-Men Origins: Wolverine      6.2\n",
              "X-Men: Days of Future Past    7.6\n",
              "X-Men: First Class            7.0\n",
              "X-Men: The Last Stand         6.2\n",
              "Name: vote_average, Length: 199, dtype: float64"
            ]
          },
          "metadata": {
            "tags": []
          },
          "execution_count": 24
        }
      ]
    },
    {
      "cell_type": "code",
      "metadata": {
        "id": "GQ5BV31JEPvJ",
        "colab_type": "code",
        "colab": {}
      },
      "source": [
        "# Save the results to a variable.\n",
        "\n",
        "exp_budget_vote = sorted_budget_biggest.groupby(['original_title'])['vote_average'].mean()"
      ],
      "execution_count": 0,
      "outputs": []
    },
    {
      "cell_type": "markdown",
      "metadata": {
        "id": "rs6XbfsREPvR",
        "colab_type": "text"
      },
      "source": [
        "I created a hitogram to get a picture about the distribution."
      ]
    },
    {
      "cell_type": "code",
      "metadata": {
        "id": "gVcOpr58EPvS",
        "colab_type": "code",
        "colab": {
          "base_uri": "https://localhost:8080/",
          "height": 312
        },
        "outputId": "d9793eb2-1ad2-4378-93e4-1abba0f3bca4"
      },
      "source": [
        "# Create a plot to visualize the results\n",
        "\n",
        "plt.xlabel('Votes')\n",
        "plt.ylabel('Number of Movies')\n",
        "plt.title('Distribution of Votes')\n",
        "\n",
        "exp_budget_vote.hist(histtype = 'stepfilled', label = 'Rates of the Most Expensive Movies')"
      ],
      "execution_count": 26,
      "outputs": [
        {
          "output_type": "execute_result",
          "data": {
            "text/plain": [
              "<matplotlib.axes._subplots.AxesSubplot at 0x7fa451d99c18>"
            ]
          },
          "metadata": {
            "tags": []
          },
          "execution_count": 26
        },
        {
          "output_type": "display_data",
          "data": {
            "image/png": "[encoded data removed]",
            "text/plain": [
              "<Figure size 432x288 with 1 Axes>"
            ]
          },
          "metadata": {
            "tags": [],
            "needs_background": "light"
          }
        }
      ]
    },
    {
      "cell_type": "markdown",
      "metadata": {
        "id": "4xd_Yul7EPvY",
        "colab_type": "text"
      },
      "source": [
        "### Part 2: get the cheapest movies"
      ]
    },
    {
      "cell_type": "markdown",
      "metadata": {
        "id": "6fJUieTgEPvZ",
        "colab_type": "text"
      },
      "source": [
        "I queried the 200 cheapest movies from the database."
      ]
    },
    {
      "cell_type": "code",
      "metadata": {
        "scrolled": true,
        "id": "moBFnQWUEPva",
        "colab_type": "code",
        "colab": {}
      },
      "source": [
        "# Get the cheapest movies with ratings\n",
        " \n",
        "sorted_budget_cheapest = df.sort_values(by=['budget_adj'], ascending = True).head(200)"
      ],
      "execution_count": 0,
      "outputs": []
    },
    {
      "cell_type": "markdown",
      "metadata": {
        "id": "UweKPkYWEPvh",
        "colab_type": "text"
      },
      "source": [
        "I queried the cheapest movies and their rating."
      ]
    },
    {
      "cell_type": "code",
      "metadata": {
        "id": "7eLGHWIWEPvi",
        "colab_type": "code",
        "colab": {}
      },
      "source": [
        "cheap_budget_vote = sorted_budget_cheapest.groupby('original_title')['vote_average'].mean()"
      ],
      "execution_count": 0,
      "outputs": []
    },
    {
      "cell_type": "markdown",
      "metadata": {
        "id": "RpsWkdHKEPvo",
        "colab_type": "text"
      },
      "source": [
        "I created a histogram to visualize the distribuion."
      ]
    },
    {
      "cell_type": "code",
      "metadata": {
        "id": "jrlwjMmrEPvp",
        "colab_type": "code",
        "colab": {
          "base_uri": "https://localhost:8080/",
          "height": 312
        },
        "outputId": "d46bc643-e0b6-4117-96ac-8a9c8bc37e3d"
      },
      "source": [
        "plt.xlabel('Votes')\n",
        "plt.ylabel('Number of Cheapest Movies')\n",
        "plt.title('Distribution of Votes')\n",
        "\n",
        "cheap_budget_vote.hist(label = 'Rates of the Cheapest Movies')"
      ],
      "execution_count": 29,
      "outputs": [
        {
          "output_type": "execute_result",
          "data": {
            "text/plain": [
              "<matplotlib.axes._subplots.AxesSubplot at 0x7fa45181fa58>"
            ]
          },
          "metadata": {
            "tags": []
          },
          "execution_count": 29
        },
        {
          "output_type": "display_data",
          "data": {
            "image/png": "[encoded data removed]",
            "text/plain": [
              "<Figure size 432x288 with 1 Axes>"
            ]
          },
          "metadata": {
            "tags": [],
            "needs_background": "light"
          }
        }
      ]
    },
    {
      "cell_type": "markdown",
      "metadata": {
        "id": "wljw3dsEEPvw",
        "colab_type": "text"
      },
      "source": [
        "### Part 3: Compare the results in one diagram\n",
        "\n",
        "I created a diagram to display the differences between the ratings."
      ]
    },
    {
      "cell_type": "code",
      "metadata": {
        "id": "pfbiuiw-EPvy",
        "colab_type": "code",
        "colab": {
          "base_uri": "https://localhost:8080/",
          "height": 281
        },
        "outputId": "af79cf3b-ac99-469d-bc4a-491a14f46f24"
      },
      "source": [
        "plt.hist(cheap_budget_vote, alpha=0.8, label='Votes of Cheap Movies')\n",
        "plt.hist(exp_budget_vote, alpha=0.8, label='Votes of Expensive Movies')\n",
        "plt.ylabel('Number of Movies')\n",
        "plt.title('Distribution of Votes')\n",
        "plt.legend(loc='upper right')\n",
        "plt.show()"
      ],
      "execution_count": 30,
      "outputs": [
        {
          "output_type": "display_data",
          "data": {
            "image/png": "[encoded data removed]",
            "text/plain": [
              "<Figure size 432x288 with 1 Axes>"
            ]
          },
          "metadata": {
            "tags": [],
            "needs_background": "light"
          }
        }
      ]
    },
    {
      "cell_type": "markdown",
      "metadata": {
        "id": "l8uPC5BOEPv4",
        "colab_type": "text"
      },
      "source": [
        "### Part 4: Conclusion\n",
        "\n",
        "As a conclusion, I can say that the most expensive movies generally got better rating that the cheaper ones. We can see on the diagram that the worst rating is 4.5 while the cheapest movies worst rating were lower than 2."
      ]
    },
    {
      "cell_type": "markdown",
      "metadata": {
        "id": "qrTre1G4EPv5",
        "colab_type": "text"
      },
      "source": [
        "<a id='conclusions'></a>\n",
        "## Conclusions\n",
        "\n",
        "In the first section I examined the popularity of Western movies over the decades. I made my analyzation based on the values of 'released_year' and 'popularity'. I could not find any correlations between the numbers and the assumptions but I found it by taking into account the numbers of released movies.\n",
        "\n",
        "After that I analyzed the ratings of the most and least expensive movies and I found out that the more expensive movies got higher votes than the cheaper ones.\n",
        "\n",
        "### Limitations\n",
        "\n",
        "In the first section - although the literature details the phenomenon - I could not find any correlation between 'popularty' and 'release year'. It would be good to know more about what is behind the value 'popularity' and what popularity means here. Just to name a few... How was it calculated? Which criterias and values were measured exactly to get these numbers? It could be caculated based on ticket sales? Or based on audience appraisal? However, I found correlation between my assumptions and the number of released western movies but I would not name it causation without a much more detailed further analysis. \n",
        "\n",
        "In the second section, I made my calculations based on the values of budget adjustment to take the fluctuations into account, I found this really useful. But there were more missing values in the 'budget_adj' column. During the cleaning process I replaced the missing values with the average, but it still can distort the result (for instance, there would be other movies among the most expensive 200 movies)."
      ]
    },
    {
      "cell_type": "code",
      "metadata": {
        "id": "hbSfTrDaEPv7",
        "colab_type": "code",
        "colab": {
          "base_uri": "https://localhost:8080/",
          "height": 34
        },
        "outputId": "92743d49-fba0-4358-dc34-0f18c3572853"
      },
      "source": [
        "from subprocess import call\n",
        "call(['python', '-m', 'nbconvert', 'Investigate_a_Dataset-Copy1.ipynb'])"
      ],
      "execution_count": 31,
      "outputs": [
        {
          "output_type": "execute_result",
          "data": {
            "text/plain": [
              "255"
            ]
          },
          "metadata": {
            "tags": []
          },
          "execution_count": 31
        }
      ]
    }
  ]
}